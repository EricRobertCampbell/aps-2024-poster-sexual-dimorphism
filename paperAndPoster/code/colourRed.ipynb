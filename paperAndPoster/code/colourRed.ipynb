{
 "cells": [
  {
   "cell_type": "code",
   "execution_count": 2,
   "metadata": {
    "vscode": {
     "languageId": "r"
    }
   },
   "outputs": [],
   "source": [
    "library(RColorBrewer)"
   ]
  },
  {
   "cell_type": "code",
   "execution_count": 3,
   "metadata": {
    "vscode": {
     "languageId": "r"
    }
   },
   "outputs": [
    {
     "data": {
      "text/html": [
       "<style>\n",
       ".list-inline {list-style: none; margin:0; padding: 0}\n",
       ".list-inline>li {display: inline-block}\n",
       ".list-inline>li:not(:last-child)::after {content: \"\\00b7\"; padding: 0 .5ex}\n",
       "</style>\n",
       "<ol class=list-inline><li>'#E41A1C'</li><li>'#377EB8'</li><li>'#4DAF4A'</li><li>'#984EA3'</li><li>'#FF7F00'</li><li>'#FFFF33'</li><li>'#A65628'</li><li>'#F781BF'</li><li>'#999999'</li></ol>\n"
      ],
      "text/latex": [
       "\\begin{enumerate*}\n",
       "\\item '\\#E41A1C'\n",
       "\\item '\\#377EB8'\n",
       "\\item '\\#4DAF4A'\n",
       "\\item '\\#984EA3'\n",
       "\\item '\\#FF7F00'\n",
       "\\item '\\#FFFF33'\n",
       "\\item '\\#A65628'\n",
       "\\item '\\#F781BF'\n",
       "\\item '\\#999999'\n",
       "\\end{enumerate*}\n"
      ],
      "text/markdown": [
       "1. '#E41A1C'\n",
       "2. '#377EB8'\n",
       "3. '#4DAF4A'\n",
       "4. '#984EA3'\n",
       "5. '#FF7F00'\n",
       "6. '#FFFF33'\n",
       "7. '#A65628'\n",
       "8. '#F781BF'\n",
       "9. '#999999'\n",
       "\n",
       "\n"
      ],
      "text/plain": [
       "[1] \"#E41A1C\" \"#377EB8\" \"#4DAF4A\" \"#984EA3\" \"#FF7F00\" \"#FFFF33\" \"#A65628\"\n",
       "[8] \"#F781BF\" \"#999999\""
      ]
     },
     "metadata": {},
     "output_type": "display_data"
    },
    {
     "data": {
      "text/html": [
       "'#E41A1C'"
      ],
      "text/latex": [
       "'\\#E41A1C'"
      ],
      "text/markdown": [
       "'#E41A1C'"
      ],
      "text/plain": [
       "[1] \"#E41A1C\""
      ]
     },
     "metadata": {},
     "output_type": "display_data"
    }
   ],
   "source": [
    "palette_set1 <- brewer.pal(9, \"Set1\")\n",
    "\n",
    "# Display the RGB values for all colors in the Set1 palette\n",
    "palette_set1\n",
    "\n",
    "# Find the RGB value for the primary red color (the first color in the palette)\n",
    "rgb_value_primary_red <- palette_set1[1]\n",
    "\n",
    "# Print the RGB value\n",
    "rgb_value_primary_red"
   ]
  },
  {
   "cell_type": "code",
   "execution_count": null,
   "metadata": {
    "vscode": {
     "languageId": "r"
    }
   },
   "outputs": [],
   "source": []
  }
 ],
 "metadata": {
  "kernelspec": {
   "display_name": "R",
   "language": "R",
   "name": "ir"
  },
  "language_info": {
   "codemirror_mode": "r",
   "file_extension": ".r",
   "mimetype": "text/x-r-source",
   "name": "R",
   "pygments_lexer": "r",
   "version": "4.3.2"
  }
 },
 "nbformat": 4,
 "nbformat_minor": 2
}
