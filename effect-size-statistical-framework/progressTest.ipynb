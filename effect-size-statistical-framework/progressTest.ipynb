{
 "cells": [
  {
   "cell_type": "code",
   "execution_count": 5,
   "metadata": {
    "vscode": {
     "languageId": "r"
    }
   },
   "outputs": [
    {
     "name": "stdout",
     "output_type": "stream",
     "text": [
      "  |=================                                                     |  24%"
     ]
    }
   ],
   "source": [
    "ind <- 1:100\n",
    "pb <- txtProgressBar(min = 0, max = length(ind), initial = 0, style = 3)\n",
    "\n",
    "for (i in 1:100) {\n",
    "    Sys.sleep(0.5)\n",
    "    setTxtProgressBar(pb, i)\n",
    "}\n",
    "close(pb)"
   ]
  },
  {
   "cell_type": "code",
   "execution_count": null,
   "metadata": {
    "vscode": {
     "languageId": "r"
    }
   },
   "outputs": [],
   "source": []
  }
 ],
 "metadata": {
  "kernelspec": {
   "display_name": "R",
   "language": "R",
   "name": "ir"
  },
  "language_info": {
   "codemirror_mode": "r",
   "file_extension": ".r",
   "mimetype": "text/x-r-source",
   "name": "R",
   "pygments_lexer": "r",
   "version": "4.3.2"
  }
 },
 "nbformat": 4,
 "nbformat_minor": 2
}
